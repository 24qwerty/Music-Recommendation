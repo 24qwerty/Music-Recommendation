{
 "cells": [
  {
   "cell_type": "code",
   "execution_count": 1,
   "metadata": {
    "collapsed": true
   },
   "outputs": [],
   "source": [
    "import numpy as np\n",
    "import pandas as pd \n",
    "import seaborn as sns \n",
    "import matplotlib.pyplot as plt \n",
    "%matplotlib inline"
   ]
  },
  {
   "cell_type": "code",
   "execution_count": 2,
   "metadata": {
    "collapsed": true
   },
   "outputs": [],
   "source": [
    "train=pd.read_csv('/Users/shaily/Desktop/Kaggle-WSDM/train.csv')\n",
    "songs=pd.read_csv('/Users/shaily/Desktop/Kaggle-WSDM/songs.csv')\n",
    "songs_extra_info=pd.read_csv('/Users/shaily/Desktop/Kaggle-WSDM/song_extra_info.csv')\n",
    "members=pd.read_csv('/Users/shaily/Desktop/Kaggle-WSDM/members.csv')\n",
    "test=pd.read_csv('/Users/shaily/Desktop/Kaggle-WSDM/test.csv')"
   ]
  },
  {
   "cell_type": "markdown",
   "metadata": {},
   "source": [
    "Understanding the data"
   ]
  },
  {
   "cell_type": "code",
   "execution_count": 3,
   "metadata": {},
   "outputs": [
    {
     "data": {
      "text/html": [
       "<div>\n",
       "<style>\n",
       "    .dataframe thead tr:only-child th {\n",
       "        text-align: right;\n",
       "    }\n",
       "\n",
       "    .dataframe thead th {\n",
       "        text-align: left;\n",
       "    }\n",
       "\n",
       "    .dataframe tbody tr th {\n",
       "        vertical-align: top;\n",
       "    }\n",
       "</style>\n",
       "<table border=\"1\" class=\"dataframe\">\n",
       "  <thead>\n",
       "    <tr style=\"text-align: right;\">\n",
       "      <th></th>\n",
       "      <th>target</th>\n",
       "    </tr>\n",
       "  </thead>\n",
       "  <tbody>\n",
       "    <tr>\n",
       "      <th>count</th>\n",
       "      <td>7.377418e+06</td>\n",
       "    </tr>\n",
       "    <tr>\n",
       "      <th>mean</th>\n",
       "      <td>5.035171e-01</td>\n",
       "    </tr>\n",
       "    <tr>\n",
       "      <th>std</th>\n",
       "      <td>4.999877e-01</td>\n",
       "    </tr>\n",
       "    <tr>\n",
       "      <th>min</th>\n",
       "      <td>0.000000e+00</td>\n",
       "    </tr>\n",
       "    <tr>\n",
       "      <th>25%</th>\n",
       "      <td>0.000000e+00</td>\n",
       "    </tr>\n",
       "    <tr>\n",
       "      <th>50%</th>\n",
       "      <td>1.000000e+00</td>\n",
       "    </tr>\n",
       "    <tr>\n",
       "      <th>75%</th>\n",
       "      <td>1.000000e+00</td>\n",
       "    </tr>\n",
       "    <tr>\n",
       "      <th>max</th>\n",
       "      <td>1.000000e+00</td>\n",
       "    </tr>\n",
       "  </tbody>\n",
       "</table>\n",
       "</div>"
      ],
      "text/plain": [
       "             target\n",
       "count  7.377418e+06\n",
       "mean   5.035171e-01\n",
       "std    4.999877e-01\n",
       "min    0.000000e+00\n",
       "25%    0.000000e+00\n",
       "50%    1.000000e+00\n",
       "75%    1.000000e+00\n",
       "max    1.000000e+00"
      ]
     },
     "execution_count": 3,
     "metadata": {},
     "output_type": "execute_result"
    }
   ],
   "source": [
    "train.describe()"
   ]
  },
  {
   "cell_type": "code",
   "execution_count": 4,
   "metadata": {},
   "outputs": [
    {
     "name": "stdout",
     "output_type": "stream",
     "text": [
      "count    34403.000000\n",
      "mean         5.953376\n",
      "std          2.287534\n",
      "min          3.000000\n",
      "25%          4.000000\n",
      "50%          7.000000\n",
      "75%          9.000000\n",
      "max         16.000000\n",
      "Name: registered_via, dtype: float64\n"
     ]
    },
    {
     "data": {
      "text/plain": [
       "array([ 7,  4,  9,  3, 13, 16])"
      ]
     },
     "execution_count": 4,
     "metadata": {},
     "output_type": "execute_result"
    }
   ],
   "source": [
    "print(members['registered_via'].describe())\n",
    "members['registered_via'].unique()"
   ]
  },
  {
   "cell_type": "code",
   "execution_count": 5,
   "metadata": {},
   "outputs": [
    {
     "name": "stdout",
     "output_type": "stream",
     "text": [
      "count    3.440300e+04\n",
      "mean     2.016901e+07\n",
      "std      7.320925e+03\n",
      "min      1.970010e+07\n",
      "25%      2.017020e+07\n",
      "50%      2.017091e+07\n",
      "75%      2.017093e+07\n",
      "max      2.020102e+07\n",
      "Name: expiration_date, dtype: float64\n"
     ]
    },
    {
     "data": {
      "text/plain": [
       "array([20170920, 20170622, 20170712, ..., 20130324, 20140703, 20181228])"
      ]
     },
     "execution_count": 5,
     "metadata": {},
     "output_type": "execute_result"
    }
   ],
   "source": [
    "print(members['expiration_date'].describe())\n",
    "members['expiration_date'].unique()"
   ]
  },
  {
   "cell_type": "code",
   "execution_count": 6,
   "metadata": {},
   "outputs": [
    {
     "data": {
      "text/plain": [
       "<matplotlib.axes._subplots.AxesSubplot at 0x10ec3e550>"
      ]
     },
     "execution_count": 6,
     "metadata": {},
     "output_type": "execute_result"
    },
    {
     "data": {
      "image/png": "[encoded data removed]",
      "text/plain": [
       "<matplotlib.figure.Figure at 0x10ec17630>"
      ]
     },
     "metadata": {},
     "output_type": "display_data"
    }
   ],
   "source": [
    "sns.countplot(train['source_system_tab'],hue=train['target'])"
   ]
  },
  {
   "cell_type": "code",
   "execution_count": 7,
   "metadata": {},
   "outputs": [
    {
     "data": {
      "text/plain": [
       "count     2202204\n",
       "unique       1045\n",
       "top           465\n",
       "freq       567911\n",
       "Name: genre_ids, dtype: object"
      ]
     },
     "execution_count": 7,
     "metadata": {},
     "output_type": "execute_result"
    }
   ],
   "source": [
    "songs['genre_ids'].describe()"
   ]
  },
  {
   "cell_type": "code",
   "execution_count": 8,
   "metadata": {
    "collapsed": true
   },
   "outputs": [],
   "source": [
    "df_train =train.merge(songs,how=\"left\",on=\"song_id\")"
   ]
  },
  {
   "cell_type": "code",
   "execution_count": 9,
   "metadata": {
    "collapsed": true
   },
   "outputs": [],
   "source": [
    "# get top 5 genre\n",
    "genre_dict={}\n",
    "for i in df_train['genre_ids']:\n",
    "    r=str(i).split('|')\n",
    "    for t in r:\n",
    "        if t in genre_dict:\n",
    "            genre_dict[t]=genre_dict[t]+1\n",
    "        else:\n",
    "            genre_dict[t]=1"
   ]
  },
  {
   "cell_type": "code",
   "execution_count": 10,
   "metadata": {},
   "outputs": [
    {
     "data": {
      "image/png": "[encoded data removed]",
      "text/plain": [
       "<matplotlib.figure.Figure at 0x103a5d0f0>"
      ]
     },
     "metadata": {},
     "output_type": "display_data"
    },
    {
     "data": {
      "text/plain": [
       "['1259', '444', '1609', '921', '458']"
      ]
     },
     "execution_count": 10,
     "metadata": {},
     "output_type": "execute_result"
    }
   ],
   "source": [
    "d_keys=genre_dict.keys()\n",
    "d_values=genre_dict.values()\n",
    "\n",
    "d_sorted_keys = [x for _,x in sorted(zip(d_values,d_keys))]\n",
    "d_sorted_values=sorted(d_values)\n",
    "l=len(d_sorted_values)\n",
    "plt.bar(d_sorted_keys[l-10:l], d_sorted_values[l-10:l], color='g')\n",
    "plt.show()\n",
    "top_5_genre=d_sorted_keys[-6:-1]\n",
    "top_5_genre"
   ]
  },
  {
   "cell_type": "code",
   "execution_count": 11,
   "metadata": {
    "collapsed": true
   },
   "outputs": [],
   "source": [
    "# Add top 5 songs as features\n",
    "songs['top1']=songs['genre_ids'].str.split(\"|\").apply(lambda x : 1 if '465' in str(x) else 0)\n",
    "songs['top2']=songs['genre_ids'].str.split(\"|\").apply(lambda x : 1 if '458' in str(x) else 0)\n",
    "songs['top3']=songs['genre_ids'].str.split(\"|\").apply(lambda x : 1 if '921' in str(x) else 0)\n",
    "songs['top4']=songs['genre_ids'].str.split(\"|\").apply(lambda x : 1 if '1609' in str(x) else 0)\n",
    "songs['top5']=songs['genre_ids'].str.split(\"|\").apply(lambda x : 1 if '444' in str(x) else 0)"
   ]
  },
  {
   "cell_type": "code",
   "execution_count": 12,
   "metadata": {
    "collapsed": true
   },
   "outputs": [],
   "source": [
    "# feature to signify if genre for a particular songs is given or not\n",
    "songs['isnull']=songs['genre_ids'].str.split(\"|\").apply(lambda x : 1 if 'nan' in str(x) else 0)"
   ]
  },
  {
   "cell_type": "code",
   "execution_count": 13,
   "metadata": {
    "collapsed": true
   },
   "outputs": [],
   "source": [
    "# Calculating new feature - number of genres of that song\n",
    "songs['count_genre']=songs['genre_ids'].str.split(\"|\").apply(lambda x : len(x) if 'nan' not in str(x) else 0)"
   ]
  },
  {
   "cell_type": "code",
   "execution_count": 14,
   "metadata": {},
   "outputs": [
    {
     "data": {
      "image/png": "[encoded data removed]",
      "text/plain": [
       "<matplotlib.figure.Figure at 0x19eee97b8>"
      ]
     },
     "metadata": {},
     "output_type": "display_data"
    },
    {
     "data": {
      "text/plain": [
       "count    34403.000000\n",
       "mean        12.280935\n",
       "std         18.170251\n",
       "min        -43.000000\n",
       "25%          0.000000\n",
       "50%          0.000000\n",
       "75%         25.000000\n",
       "max       1051.000000\n",
       "Name: bd, dtype: float64"
      ]
     },
     "execution_count": 14,
     "metadata": {},
     "output_type": "execute_result"
    }
   ],
   "source": [
    "plt.hist(members['bd'],bins=100)\n",
    "plt.show()\n",
    "members['bd'].describe()"
   ]
  },
  {
   "cell_type": "code",
   "execution_count": 15,
   "metadata": {
    "collapsed": true
   },
   "outputs": [],
   "source": [
    "# Calculate average age of users in age range 10-100 years\n",
    "a=members[members['bd']<100 ]\n",
    "b=a[a['bd']>=10]\n",
    "mean_bd=b['bd'].mean()"
   ]
  },
  {
   "cell_type": "code",
   "execution_count": 16,
   "metadata": {
    "collapsed": true
   },
   "outputs": [],
   "source": [
    "# Add updated age of the users.\n",
    "members['new_bd']=members['bd'].apply(lambda x : x if x<100 and x>=10 else mean_bd)"
   ]
  },
  {
   "cell_type": "code",
   "execution_count": 17,
   "metadata": {},
   "outputs": [
    {
     "data": {
      "text/plain": [
       "<matplotlib.axes._subplots.AxesSubplot at 0x113018128>"
      ]
     },
     "execution_count": 17,
     "metadata": {},
     "output_type": "execute_result"
    },
    {
     "data": {
      "image/png": "[encoded data removed]",
      "text/plain": [
       "<matplotlib.figure.Figure at 0x19eee9cf8>"
      ]
     },
     "metadata": {},
     "output_type": "display_data"
    }
   ],
   "source": [
    "plt.figure(figsize=(15,12))\n",
    "sns.countplot(songs['language'])"
   ]
  },
  {
   "cell_type": "code",
   "execution_count": 18,
   "metadata": {
    "collapsed": true
   },
   "outputs": [],
   "source": [
    "# replace nan with most used language in songs.\n",
    "songs['language'].fillna(value=52,inplace=True)"
   ]
  },
  {
   "cell_type": "code",
   "execution_count": 19,
   "metadata": {
    "collapsed": true
   },
   "outputs": [],
   "source": [
    "# Calculate artist count for every particular song\n",
    "songs['artist_count']=songs['artist_name'].str.split(\"|\").apply(lambda x : len(x) if 'Unknown' not in (x) else 0)"
   ]
  },
  {
   "cell_type": "code",
   "execution_count": 20,
   "metadata": {
    "collapsed": true
   },
   "outputs": [],
   "source": [
    "# Calculate composer count for every particular song\n",
    "songs['composer'].fillna(value='Unknown',inplace=True)\n",
    "songs['composer_count']=songs['composer'].str.split(\"|\").apply(lambda x : len(x) if 'Unknown' not in (x) else 0)"
   ]
  },
  {
   "cell_type": "code",
   "execution_count": 21,
   "metadata": {
    "collapsed": true
   },
   "outputs": [],
   "source": [
    "# Calculate lyricist count for every particular song\n",
    "songs['lyricist'].fillna(value='Unknown',inplace=True)\n",
    "songs['lyricist_count']=songs['lyricist'].str.split(\"|\").apply(lambda x : len(x) if 'Unknown' not in (x) else 0)"
   ]
  },
  {
   "cell_type": "code",
   "execution_count": 22,
   "metadata": {
    "collapsed": true
   },
   "outputs": [],
   "source": [
    "# Calculate memebership duration.\n",
    "members['time']=members['expiration_date']-members['registration_init_time']\n",
    "members['time']=members['time'].apply(lambda x: x if x>=0 else 0)"
   ]
  },
  {
   "cell_type": "code",
   "execution_count": 23,
   "metadata": {
    "collapsed": true
   },
   "outputs": [],
   "source": [
    "# Extract song year information from ISRC data.\n",
    "def isrc_to_year(isrc):\n",
    "    if type(isrc) == str:\n",
    "        if int(isrc[5:7]) > 17:\n",
    "            return 1900 + int(isrc[5:7])\n",
    "        else:\n",
    "            return 2000 + int(isrc[5:7])\n",
    "    else:\n",
    "        return np.nan\n",
    "songs_extra_info['song_year'] = songs_extra_info['isrc'].apply(isrc_to_year)"
   ]
  },
  {
   "cell_type": "code",
   "execution_count": 24,
   "metadata": {
    "collapsed": true
   },
   "outputs": [],
   "source": [
    "songs =songs.merge(songs_extra_info,how=\"left\",on=\"song_id\")"
   ]
  },
  {
   "cell_type": "code",
   "execution_count": 25,
   "metadata": {},
   "outputs": [
    {
     "data": {
      "text/html": [
       "<div>\n",
       "<style>\n",
       "    .dataframe thead tr:only-child th {\n",
       "        text-align: right;\n",
       "    }\n",
       "\n",
       "    .dataframe thead th {\n",
       "        text-align: left;\n",
       "    }\n",
       "\n",
       "    .dataframe tbody tr th {\n",
       "        vertical-align: top;\n",
       "    }\n",
       "</style>\n",
       "<table border=\"1\" class=\"dataframe\">\n",
       "  <thead>\n",
       "    <tr style=\"text-align: right;\">\n",
       "      <th></th>\n",
       "      <th>song_id</th>\n",
       "      <th>name</th>\n",
       "      <th>isrc</th>\n",
       "      <th>song_year</th>\n",
       "    </tr>\n",
       "  </thead>\n",
       "  <tbody>\n",
       "    <tr>\n",
       "      <th>0</th>\n",
       "      <td>LP7pLJoJFBvyuUwvu+oLzjT+bI+UeBPURCecJsX1jjs=</td>\n",
       "      <td>我們</td>\n",
       "      <td>TWUM71200043</td>\n",
       "      <td>2012.0</td>\n",
       "    </tr>\n",
       "    <tr>\n",
       "      <th>1</th>\n",
       "      <td>ClazTFnk6r0Bnuie44bocdNMM3rdlrq0bCGAsGUWcHE=</td>\n",
       "      <td>Let Me Love You</td>\n",
       "      <td>QMZSY1600015</td>\n",
       "      <td>2016.0</td>\n",
       "    </tr>\n",
       "    <tr>\n",
       "      <th>2</th>\n",
       "      <td>u2ja/bZE3zhCGxvbbOB3zOoUjx27u40cf5g09UXMoKQ=</td>\n",
       "      <td>原諒我</td>\n",
       "      <td>TWA530887303</td>\n",
       "      <td>2008.0</td>\n",
       "    </tr>\n",
       "    <tr>\n",
       "      <th>3</th>\n",
       "      <td>92Fqsy0+p6+RHe2EoLKjHahORHR1Kq1TBJoClW9v+Ts=</td>\n",
       "      <td>Classic</td>\n",
       "      <td>USSM11301446</td>\n",
       "      <td>2013.0</td>\n",
       "    </tr>\n",
       "    <tr>\n",
       "      <th>4</th>\n",
       "      <td>0QFmz/+rJy1Q56C1DuYqT9hKKqi5TUqx0sN0IwvoHrw=</td>\n",
       "      <td>愛投羅網</td>\n",
       "      <td>TWA471306001</td>\n",
       "      <td>2013.0</td>\n",
       "    </tr>\n",
       "  </tbody>\n",
       "</table>\n",
       "</div>"
      ],
      "text/plain": [
       "                                        song_id             name  \\\n",
       "0  LP7pLJoJFBvyuUwvu+oLzjT+bI+UeBPURCecJsX1jjs=               我們   \n",
       "1  ClazTFnk6r0Bnuie44bocdNMM3rdlrq0bCGAsGUWcHE=  Let Me Love You   \n",
       "2  u2ja/bZE3zhCGxvbbOB3zOoUjx27u40cf5g09UXMoKQ=              原諒我   \n",
       "3  92Fqsy0+p6+RHe2EoLKjHahORHR1Kq1TBJoClW9v+Ts=          Classic   \n",
       "4  0QFmz/+rJy1Q56C1DuYqT9hKKqi5TUqx0sN0IwvoHrw=             愛投羅網   \n",
       "\n",
       "           isrc  song_year  \n",
       "0  TWUM71200043     2012.0  \n",
       "1  QMZSY1600015     2016.0  \n",
       "2  TWA530887303     2008.0  \n",
       "3  USSM11301446     2013.0  \n",
       "4  TWA471306001     2013.0  "
      ]
     },
     "execution_count": 25,
     "metadata": {},
     "output_type": "execute_result"
    }
   ],
   "source": [
    "songs_extra_info.head()"
   ]
  },
  {
   "cell_type": "code",
   "execution_count": 26,
   "metadata": {
    "collapsed": true
   },
   "outputs": [],
   "source": [
    "songs.drop([\"name\",\"isrc\"],axis=1,inplace=True)"
   ]
  },
  {
   "cell_type": "code",
   "execution_count": 27,
   "metadata": {
    "collapsed": true
   },
   "outputs": [],
   "source": [
    "songs['song_year'].fillna(value=-1,inplace=True)"
   ]
  },
  {
   "cell_type": "code",
   "execution_count": 28,
   "metadata": {
    "collapsed": true
   },
   "outputs": [],
   "source": [
    "train['source_system_tab_category']=train['source_system_tab'].apply(lambda x: x if x!='null' else 'Unknown')"
   ]
  },
  {
   "cell_type": "code",
   "execution_count": 29,
   "metadata": {
    "collapsed": true
   },
   "outputs": [],
   "source": [
    "source_tab_dict = {\"my library\":8,\"discover\":7,\"search\":6,\"radio\":5,\"listen with\":4,\"explore\":3,\"notification\":2,\"settings\":1,\"Unknown\":0 }\n",
    "train['source_system_tab_category']=train['source_system_tab_category'].map(source_tab_dict)"
   ]
  },
  {
   "cell_type": "code",
   "execution_count": 30,
   "metadata": {
    "collapsed": true
   },
   "outputs": [],
   "source": [
    "source_screen_name_dict={'Local playlist more':0,'Online playlist more':1,'Radio':2,'Album more':3,'Search':4,'Artist more':5,'Discover Feature':6,'Discover Chart':7,'Others profile more':8,'Discover Genre':9,'My library':10,'Explore':11,'Unknown':12,'Discover New':13,'Search Trends':14,'Search Home':15,'My library_Search':16,'Self profile more':17,'Concert':18,'Payment':19}\n",
    "train['source_screen_name_category']=train['source_screen_name'].map(source_screen_name_dict)"
   ]
  },
  {
   "cell_type": "code",
   "execution_count": 31,
   "metadata": {
    "collapsed": true
   },
   "outputs": [],
   "source": [
    "train['source_system_tab_category'] = train['source_system_tab_category'].astype(\"category\")\n",
    "train['source_screen_name_category'] = train['source_screen_name_category'].astype(\"category\")"
   ]
  },
  {
   "cell_type": "code",
   "execution_count": 32,
   "metadata": {
    "collapsed": true
   },
   "outputs": [],
   "source": [
    "source_type_dict = {\"local-library\":12,\"online-playlist\":11,\"local-playlist\":10,\"radio\":9,\"album\":8,\"top-hits-for-artist\":7,\"song\":6,\"song-based-playlist\":5,\"listen-with\":4,\"Unknown\":3,\"topic-article-playlist\":2,\"artist\":1,\"my-daily-playlist\":0}\n",
    "train['source_type_category']=train['source_type'].map(source_type_dict)"
   ]
  },
  {
   "cell_type": "code",
   "execution_count": 33,
   "metadata": {
    "collapsed": true
   },
   "outputs": [],
   "source": [
    "train['source_type_category']=train['source_type'].map(source_type_dict)"
   ]
  },
  {
   "cell_type": "markdown",
   "metadata": {},
   "source": [
    "Apply transformation on test data."
   ]
  },
  {
   "cell_type": "code",
   "execution_count": 34,
   "metadata": {
    "collapsed": true
   },
   "outputs": [],
   "source": [
    "test['source_system_tab_category']=test['source_system_tab'].apply(lambda x: x if x!='null' else 'Unknown')\n",
    "test['source_system_tab_category']=test['source_system_tab_category'].map(source_tab_dict)\n",
    "test['source_screen_name_category']=test['source_screen_name'].map(source_screen_name_dict)\n",
    "test['source_type_category']=test['source_type'].map(source_type_dict)\n",
    "test['source_system_tab_category'] = test['source_system_tab_category'].astype(\"category\")\n",
    "test['source_screen_name_category'] = test['source_screen_name_category'].astype(\"category\")\n",
    "test['source_type_category'] = test['source_type_category'].astype(\"category\")"
   ]
  },
  {
   "cell_type": "code",
   "execution_count": 35,
   "metadata": {
    "collapsed": true
   },
   "outputs": [],
   "source": [
    "train1=pd.DataFrame(train)\n",
    "test1=pd.DataFrame(test)"
   ]
  },
  {
   "cell_type": "code",
   "execution_count": 36,
   "metadata": {
    "collapsed": true
   },
   "outputs": [],
   "source": [
    "train1.drop(['source_system_tab','source_screen_name','source_type'],axis=1,inplace=True)"
   ]
  },
  {
   "cell_type": "code",
   "execution_count": 37,
   "metadata": {
    "collapsed": true
   },
   "outputs": [],
   "source": [
    "test1.drop(['source_system_tab','source_screen_name','source_type'],axis=1,inplace=True)"
   ]
  },
  {
   "cell_type": "code",
   "execution_count": 38,
   "metadata": {},
   "outputs": [
    {
     "data": {
      "text/plain": [
       "2    2961479\n",
       "0    2297623\n",
       "1    2118316\n",
       "Name: gender, dtype: int64"
      ]
     },
     "execution_count": 38,
     "metadata": {},
     "output_type": "execute_result"
    }
   ],
   "source": [
    "train1 = train1.merge(songs,how=\"left\",on=\"song_id\")\n",
    "train1.drop(['genre_ids','artist_name','composer','lyricist'],axis=1,inplace=True)\n",
    "train1 = train1.merge(members,how=\"left\",on=\"msno\")\n",
    "train1.drop(['bd','registration_init_time','expiration_date'],axis=1,inplace=True)\n",
    "train1['registered_via'] = train1['registered_via'].astype(\"category\")\n",
    "\n",
    "gender_dict={'male':0,'female':1,'Unknown':2}\n",
    "train1['gender'].fillna(value=\"Unknown\",inplace=True)\n",
    "train1['gender']=train1['gender'].map(gender_dict)\n",
    "train1['gender'] = train1['gender'].astype(\"category\")\n",
    "train1['gender'].value_counts()"
   ]
  },
  {
   "cell_type": "code",
   "execution_count": 39,
   "metadata": {
    "collapsed": true
   },
   "outputs": [],
   "source": [
    "test1 = test1.merge(songs,how=\"left\",on=\"song_id\")\n",
    "test1.drop(['genre_ids','artist_name','composer','lyricist'],axis=1,inplace=True)\n",
    "test1 = test1.merge(members,how=\"left\",on=\"msno\")\n",
    "test1.drop(['bd','registration_init_time','expiration_date'],axis=1,inplace=True)\n",
    "test1['registered_via'] = test1['registered_via'].astype(\"category\")\n",
    "test1['gender'].fillna(value=\"Unknown\",inplace=True)\n",
    "test1['gender']=test1['gender'].map(gender_dict)"
   ]
  },
  {
   "cell_type": "code",
   "execution_count": 40,
   "metadata": {},
   "outputs": [
    {
     "data": {
      "text/plain": [
       "Index(['id', 'msno', 'song_id', 'source_system_tab_category',\n",
       "       'source_screen_name_category', 'source_type_category', 'song_length',\n",
       "       'language', 'top1', 'top2', 'top3', 'top4', 'top5', 'isnull',\n",
       "       'count_genre', 'artist_count', 'composer_count', 'lyricist_count',\n",
       "       'song_year', 'city', 'gender', 'registered_via', 'new_bd', 'time'],\n",
       "      dtype='object')"
      ]
     },
     "execution_count": 40,
     "metadata": {},
     "output_type": "execute_result"
    }
   ],
   "source": [
    "test1.columns"
   ]
  },
  {
   "cell_type": "code",
   "execution_count": 41,
   "metadata": {
    "collapsed": true
   },
   "outputs": [],
   "source": [
    "train1['gender'] = train1['gender'].astype(\"category\")\n",
    "test1['gender'] = test1['gender'].astype(\"category\")"
   ]
  },
  {
   "cell_type": "code",
   "execution_count": 42,
   "metadata": {
    "collapsed": true
   },
   "outputs": [],
   "source": [
    "import lightgbm as lgb\n",
    "X=train1.drop(['msno','song_id','target'],axis=1).values\n",
    "y=train1['target'].values\n",
    "d_train = lgb.Dataset(X, y)\n",
    "watchlist = [d_train]"
   ]
  },
  {
   "cell_type": "code",
   "execution_count": 43,
   "metadata": {
    "collapsed": true
   },
   "outputs": [],
   "source": [
    "params = {}\n",
    "params['learning_rate'] = 0.5\n",
    "params['application'] = 'binary'\n",
    "params['max_depth'] = 12\n",
    "params['num_leaves'] = 2**6\n",
    "params['verbosity'] = 0\n",
    "params['metric'] = 'auc'"
   ]
  },
  {
   "cell_type": "code",
   "execution_count": 44,
   "metadata": {},
   "outputs": [
    {
     "name": "stdout",
     "output_type": "stream",
     "text": [
      "[5]\ttraining's auc: 0.678732\n",
      "[10]\ttraining's auc: 0.685565\n",
      "[15]\ttraining's auc: 0.690365\n",
      "[20]\ttraining's auc: 0.694144\n",
      "[25]\ttraining's auc: 0.697742\n",
      "[30]\ttraining's auc: 0.700545\n",
      "[35]\ttraining's auc: 0.703582\n",
      "[40]\ttraining's auc: 0.705709\n",
      "[45]\ttraining's auc: 0.70756\n",
      "[50]\ttraining's auc: 0.709159\n",
      "[55]\ttraining's auc: 0.710684\n",
      "[60]\ttraining's auc: 0.712146\n",
      "[65]\ttraining's auc: 0.714017\n",
      "[70]\ttraining's auc: 0.715653\n",
      "[75]\ttraining's auc: 0.717352\n",
      "[80]\ttraining's auc: 0.718737\n",
      "[85]\ttraining's auc: 0.72016\n",
      "[90]\ttraining's auc: 0.721553\n",
      "[95]\ttraining's auc: 0.723122\n",
      "[100]\ttraining's auc: 0.72446\n",
      "[105]\ttraining's auc: 0.72616\n",
      "[110]\ttraining's auc: 0.727916\n",
      "[115]\ttraining's auc: 0.72891\n",
      "[120]\ttraining's auc: 0.729896\n",
      "[125]\ttraining's auc: 0.730812\n",
      "[130]\ttraining's auc: 0.732096\n",
      "[135]\ttraining's auc: 0.732737\n",
      "[140]\ttraining's auc: 0.733851\n",
      "[145]\ttraining's auc: 0.734579\n",
      "[150]\ttraining's auc: 0.735464\n"
     ]
    }
   ],
   "source": [
    "model = lgb.train(params, train_set=d_train, num_boost_round=150, valid_sets=watchlist, verbose_eval=5)"
   ]
  },
  {
   "cell_type": "code",
   "execution_count": 48,
   "metadata": {
    "collapsed": true
   },
   "outputs": [],
   "source": [
    "# Prediction\n",
    "X_test = test1.drop([\"msno\",\"song_id\",\"id\"],axis=1).values\n",
    "y_preds = model.predict(X_test)\n",
    "\n",
    "result_df = pd.DataFrame()\n",
    "result_df['id'] = test1['id'].values\n",
    "result_df['target'] = y_preds\n",
    "result_df.to_csv('submission_lgb.csv.gz', compression = 'gzip', index=False, float_format = '%.5f')"
   ]
  },
  {
   "cell_type": "markdown",
   "metadata": {},
   "source": [
    "Accuracy obtained = 0.65018"
   ]
  }
 ],
 "metadata": {
  "kernelspec": {
   "display_name": "Python 3",
   "language": "python",
   "name": "python3"
  },
  "language_info": {
   "codemirror_mode": {
    "name": "ipython",
    "version": 3
   },
   "file_extension": ".py",
   "mimetype": "text/x-python",
   "name": "python",
   "nbconvert_exporter": "python",
   "pygments_lexer": "ipython3",
   "version": "3.6.1"
  }
 },
 "nbformat": 4,
 "nbformat_minor": 2
}
